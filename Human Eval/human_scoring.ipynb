{
 "cells": [
  {
   "cell_type": "code",
   "execution_count": 1,
   "id": "c03849da",
   "metadata": {},
   "outputs": [],
   "source": [
    "import pandas as pd\n",
    "from glob import glob\n",
    "import os\n",
    "import shutil\n",
    "import json\n",
    "from PIL import Image\n",
    "import numpy as np\n",
    "from IPython.display import clear_output\n",
    "import seaborn as sns\n",
    "import matplotlib.pyplot as plt\n",
    "\n",
    "# Settings\n",
    "isSampleAvailable = True  # Set to True if sample files already exist else False"
   ]
  },
  {
   "cell_type": "markdown",
   "id": "b2e4a6a6",
   "metadata": {},
   "source": [
    "### Data Sampling"
   ]
  },
  {
   "cell_type": "code",
   "execution_count": 2,
   "id": "f62416bb",
   "metadata": {},
   "outputs": [],
   "source": [
    "if(not isSampleAvailable):\n",
    "    df_e = pd.read_json(\"../Data/Extended/ex_train.jsonl\", lines=True)\n",
    "\n",
    "    # a sample of 200 examples from extended dataset\n",
    "    df_e = df_e.sample(200, random_state=42)\n",
    "    df_e.sort_values(by=\"id\", inplace=True)\n",
    "\n",
    "    os.makedirs(\"Sample\", exist_ok=True)\n",
    "    df_e.to_json(\"Sample/tr_ext_sample.jsonl\", orient=\"records\", lines=True)"
   ]
  },
  {
   "cell_type": "code",
   "execution_count": 3,
   "id": "c31f32f9",
   "metadata": {},
   "outputs": [],
   "source": [
    "if(not isSampleAvailable):\n",
    "    df_o = pd.read_json(\"../Data/Original/train.jsonl\", lines=True)\n",
    "\n",
    "    df_o = df_o[df_o['id'].isin(df_e['id'].values)]\n",
    "    df_o.sort_values(by=\"id\", inplace=True)\n",
    "\n",
    "    os.makedirs(\"Sample\", exist_ok=True)\n",
    "    df_o.to_json(\"Sample/tr_orig_sample.jsonl\", orient=\"records\", lines=True)"
   ]
  },
  {
   "cell_type": "code",
   "execution_count": 4,
   "id": "22c251e2",
   "metadata": {},
   "outputs": [],
   "source": [
    "if(not isSampleAvailable):\n",
    "    os.makedirs(\"Sample/img\", exist_ok=True)\n",
    "    for p_o, p_e in zip(df_o['img'], df_e['img']):\n",
    "        shutil.copy(f\"../Data/Original/{p_o}\", \"Sample/img/\")\n",
    "        shutil.copy(f\"../Data/Extended/{p_e}\", \"Sample/img/\")"
   ]
  },
  {
   "cell_type": "markdown",
   "id": "93428872",
   "metadata": {},
   "source": [
    "### Data Annotation"
   ]
  },
  {
   "cell_type": "code",
   "execution_count": 5,
   "id": "e0acd85c",
   "metadata": {},
   "outputs": [],
   "source": [
    "df_e = pd.read_json(\"Sample/tr_ext_sample.jsonl\", lines=True)\n",
    "df_o = pd.read_json(\"Sample/tr_orig_sample.jsonl\", lines=True)"
   ]
  },
  {
   "cell_type": "code",
   "execution_count": 6,
   "id": "acc05c1b",
   "metadata": {},
   "outputs": [
    {
     "name": "stdout",
     "output_type": "stream",
     "text": [
      "Annotations saved successfully! Thank you for your participation.\n"
     ]
    }
   ],
   "source": [
    "try:\n",
    "    with open(\"annotations.json\", \"r\") as f:\n",
    "        data = json.load(f)\n",
    "except FileNotFoundError:\n",
    "    data = {}\n",
    "\n",
    "for i in range(len(df_e)):\n",
    "    id = df_e.iloc[i]['id']\n",
    "    print(f\"### Original Data Caption ###: {df_o.iloc[i]['text']}\")\n",
    "    image_orig = Image.open(f\"Sample/{df_o.iloc[i]['img']}\")\n",
    "    image_orig = image_orig.resize((400, int(400 * image_orig.height / image_orig.width)))\n",
    "    image_orig.show()\n",
    "\n",
    "    print(f\"### Augmented Caption ###: {df_e.iloc[i]['text']}\")\n",
    "    image_ext = Image.open(f\"Sample/{df_e.iloc[i]['img']}\")\n",
    "    image_ext = image_ext.resize((400, int(400 * image_ext.height / image_ext.width)))\n",
    "    image_ext.show()\n",
    "    \n",
    "    # inputs for human evaluation\n",
    "    if id not in data:\n",
    "        # Questions for Original Meme\n",
    "        isMemeHateful = int(input(\"Is the original meme hateful? (1: yes/0: no): \"))\n",
    "        isMemeBackHateful = int(input(\"Is the original meme background hateful? (1: yes/0: no): \"))\n",
    "        isMemeCaptionHateful = int(input(\"Are the original caption hateful? (1: yes/0: no): \"))\n",
    "\n",
    "        # Questions for New Non-hateful Meme\n",
    "        isNewMemeHateful = int(input(\"Is the new meme hateful? (1: yes/0: no): \"))\n",
    "        isNewMemeBackHateful = int(input(\"Is the new meme background hateful? (1: yes/0: no): \"))\n",
    "        isNewMemeCaptionHateful = int(input(\"Are the new caption hateful? (1: yes/0: no): \"))\n",
    "\n",
    "        memeFormattingQuality = int(input(\"How is the meme formatting quality? (0-5): \"))\n",
    "        isNewBackAligned = int(input(\"Is the new background aligned with the old background? (0-5): \"))\n",
    "        isNewCaptionAlignedWithNewBack = int(input(\"Is the new caption aligned with the new background? (0-5): \"))\n",
    "\n",
    "        overAllQuality = int(input(\"How is the overall quality of the new meme? (0-5): \"))\n",
    "\n",
    "        data[id] = {\n",
    "            \"isMemeHateful\": isMemeHateful,\n",
    "            \"isMemeBackHateful\": isMemeBackHateful,\n",
    "            \"isMemeCaptionHateful\": isMemeCaptionHateful,\n",
    "            \"isNewMemeHateful\": isNewMemeHateful,\n",
    "            \"isNewMemeBackHateful\": isNewMemeBackHateful,\n",
    "            \"isNewMemeCaptionHateful\": isNewMemeCaptionHateful,\n",
    "            \"memeFormattingQuality\": memeFormattingQuality,\n",
    "            \"isNewBackAligned\": isNewBackAligned,\n",
    "            \"isNewCaptionAlignedWithNewBack\": isNewCaptionAlignedWithNewBack,\n",
    "            \"overAllQuality\": overAllQuality\n",
    "        }\n",
    "\n",
    "        # Save the annotations after each iteration\n",
    "        with open(\"annotations.json\", \"w\") as f:\n",
    "            json.dump(data, f, indent=4)\n",
    "\n",
    "    clear_output(wait=True)\n",
    "\n",
    "print(\"Annotations saved successfully! Thank you for your participation.\")"
   ]
  },
  {
   "cell_type": "markdown",
   "id": "3f607581",
   "metadata": {},
   "source": [
    "### Analysis"
   ]
  },
  {
   "cell_type": "code",
   "execution_count": 2,
   "id": "7f29cd1f",
   "metadata": {},
   "outputs": [],
   "source": [
    "with open(\"annotations.json\", \"r\") as f:\n",
    "    anno_data = json.load(f)"
   ]
  },
  {
   "cell_type": "code",
   "execution_count": 3,
   "id": "05c6153c",
   "metadata": {},
   "outputs": [
    {
     "name": "stdout",
     "output_type": "stream",
     "text": [
      "The number of meme samples with no caption on the image: 7 i.e.,  0.035 of total samples.\n",
      "### Human Evaluation Results ###\n",
      "------------------------------------------------------------\n",
      "Metric                                   |    Avr | Std Dev\n",
      "------------------------------------------------------------\n",
      "isMemeHateful                            |  1.000 |   0.000\n",
      "isMemeBackHateful                        |  0.000 |   0.000\n",
      "isMemeCaptionHateful                     |  1.000 |   0.000\n",
      "isNewMemeHateful                         |  0.000 |   0.000\n",
      "isNewMemeBackHateful                     |  0.000 |   0.000\n",
      "isNewMemeCaptionHateful                  |  0.000 |   0.000\n",
      "memeFormattingQuality                    |  4.050 |   0.926\n",
      "isNewBackAligned                         |  4.180 |   0.887\n",
      "isNewCaptionAlignedWithNewBack           |  4.425 |   0.745\n",
      "overAllQuality                           |  3.975 |   0.863\n",
      "------------------------------------------------------------\n"
     ]
    }
   ],
   "source": [
    "keys = [\n",
    "    \"isMemeHateful\",\n",
    "    \"isMemeBackHateful\",\n",
    "    \"isMemeCaptionHateful\",\n",
    "    \"isNewMemeHateful\",\n",
    "    \"isNewMemeBackHateful\",\n",
    "    \"isNewMemeCaptionHateful\",\n",
    "    \"memeFormattingQuality\",\n",
    "    \"isNewBackAligned\",\n",
    "    \"isNewCaptionAlignedWithNewBack\",\n",
    "    \"overAllQuality\"\n",
    "]\n",
    "\n",
    "fields = {key: [item[key] for item in anno_data.values()] for key in keys}\n",
    "\n",
    "# *removed the score -1 in case of no caption on the image: isNewCaptionAlignedWithNewBack\n",
    "print(\"The number of meme samples with no caption on the image: \", end=\"\")\n",
    "nNoCap = len([i for i in fields[\"isNewCaptionAlignedWithNewBack\"] if i == -1])\n",
    "print(nNoCap, \"i.e., \", nNoCap/len(anno_data), \"of total samples.\")\n",
    "\n",
    "fields[\"isNewCaptionAlignedWithNewBack\"] = [i for i in fields[\"isNewCaptionAlignedWithNewBack\"] if i != -1]\n",
    "\n",
    "print(\"### Human Evaluation Results ###\")\n",
    "print(\"-\" * 60)\n",
    "print(f\"{'Metric':40s} | {'Avr':>6s} | {'Std Dev':>7s}\")\n",
    "print(\"-\" * 60)\n",
    "for key in keys:\n",
    "    values = fields[key]\n",
    "    mean = np.mean(values)\n",
    "    std = np.std(values)\n",
    "    print(f\"{key:40s} | {mean:6.3f} | {std:7.3f}\")\n",
    "print(\"-\" * 60)"
   ]
  },
  {
   "cell_type": "code",
   "execution_count": 7,
   "id": "a8cabad3",
   "metadata": {},
   "outputs": [
    {
     "name": "stderr",
     "output_type": "stream",
     "text": [
      "/tmp/ipykernel_342116/1938559339.py:25: FutureWarning: \n",
      "\n",
      "Passing `palette` without assigning `hue` is deprecated and will be removed in v0.14.0. Assign the `x` variable to `hue` and set `legend=False` for the same effect.\n",
      "\n",
      "  ax = sns.violinplot(\n",
      "/tmp/ipykernel_342116/1938559339.py:25: UserWarning: The palette list has more values (8) than needed (4), which may not be intended.\n",
      "  ax = sns.violinplot(\n"
     ]
    },
    {
     "data": {
      "image/png": "[encoded data removed]",
      "text/plain": [
       "<Figure size 700x450 with 1 Axes>"
      ]
     },
     "metadata": {},
     "output_type": "display_data"
    }
   ],
   "source": [
    "data = fields[\"memeFormattingQuality\"] + fields[\"isNewBackAligned\"] + fields[\"isNewCaptionAlignedWithNewBack\"] + fields[\"overAllQuality\"]\n",
    "\n",
    "# Create corresponding x-axis labels for each value\n",
    "labels = (['Formatting'] * len(fields[\"memeFormattingQuality\"]) + \n",
    "          ['Background\\nAlignment'] * len(fields[\"isNewBackAligned\"]) + \n",
    "          ['Caption\\nAlignment'] * len(fields[\"isNewCaptionAlignedWithNewBack\"]) + \n",
    "          ['Overall'] * len(fields[\"overAllQuality\"]))\n",
    "\n",
    "# Group data for mean plotting\n",
    "grouped = {\n",
    "    \"Formatting\": fields[\"memeFormattingQuality\"],\n",
    "    \"Background\\nAlignment\": fields[\"isNewBackAligned\"],\n",
    "    \"Caption\\nAlignment\": fields[\"isNewCaptionAlignedWithNewBack\"],\n",
    "    \"Overall\": fields[\"overAllQuality\"]\n",
    "}\n",
    "\n",
    "# Plot settings\n",
    "plt.figure(figsize=(7, 4.5))\n",
    "sns.set_theme(style=\"white\", font_scale=1.4)\n",
    "\n",
    "# Classy pastel colors\n",
    "palette = sns.color_palette(\"Set2\")\n",
    "\n",
    "# Violin plot\n",
    "ax = sns.violinplot(\n",
    "    x=labels,\n",
    "    y=data,\n",
    "    cut=0,\n",
    "    linewidth=1.2,\n",
    "    palette=palette,\n",
    ")\n",
    "\n",
    "# Overlay black mean line per violin\n",
    "for i, (label, values) in enumerate(grouped.items()):\n",
    "    mean_val = np.mean(values)\n",
    "    ax.plot([i - 0.04, i + 0.04], [mean_val, mean_val], color='black', linewidth=1.6)\n",
    "\n",
    "# Aesthetic clean-up\n",
    "ax.spines['top'].set_visible(False)\n",
    "ax.spines['right'].set_visible(False)\n",
    "ax.spines['left'].set_linewidth(1.2)\n",
    "ax.spines['bottom'].set_linewidth(1.2)\n",
    "\n",
    "plt.ylim(0, 5.5)\n",
    "plt.yticks([0, 1, 2, 3, 4, 5], fontsize=12)\n",
    "plt.xticks(fontsize=12, rotation=0)\n",
    "\n",
    "plt.ylabel(\"Quality Score\", fontsize=14)\n",
    "# plt.xlabel(\"Quality Aspect\", fontsize=14)\n",
    "plt.tight_layout()\n",
    "plt.savefig(\"human_eval_results.pdf\", dpi=300, bbox_inches='tight')\n",
    "plt.show()"
   ]
  }
 ],
 "metadata": {
  "kernelspec": {
   "display_name": "MS_env",
   "language": "python",
   "name": "python3"
  },
  "language_info": {
   "codemirror_mode": {
    "name": "ipython",
    "version": 3
   },
   "file_extension": ".py",
   "mimetype": "text/x-python",
   "name": "python",
   "nbconvert_exporter": "python",
   "pygments_lexer": "ipython3",
   "version": "3.11.11"
  }
 },
 "nbformat": 4,
 "nbformat_minor": 5
}
